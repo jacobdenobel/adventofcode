{
 "cells": [
  {
   "cell_type": "code",
   "execution_count": 199,
   "id": "d98681ac",
   "metadata": {
    "scrolled": false
   },
   "outputs": [
    {
     "name": "stdout",
     "output_type": "stream",
     "text": [
      "0 5\n",
      "1 5\n",
      "2 5\n",
      "3 5\n",
      "4 5\n",
      "5 5\n",
      "6 5\n",
      "7 5\n",
      "8 6\n",
      "9 7\n",
      "10 9\n",
      "11 10\n",
      "12 10\n",
      "13 10\n",
      "14 10\n",
      "15 11\n",
      "16 13\n",
      "17 16\n",
      "18 19\n",
      "19 20\n",
      "80 5122\n"
     ]
    }
   ],
   "source": [
    "t = 17\n",
    "c = 7\n",
    "\n",
    "def nfish(t):\n",
    "    if t < c: return 0\n",
    "    if t <= c: return 1\n",
    "    \n",
    "    n_off = t // c   \n",
    "    for o in range(n_off):\n",
    "        ot = (o * c) + 8\n",
    "        n_off += nfish(t - ot)\n",
    "    return n_off\n",
    "\n",
    "x = 3,4,3,1,2\n",
    "\n",
    "def s(t):\n",
    "    ss = len(x)\n",
    "    for f in x:\n",
    "        ss += nfish(t - f)\n",
    "    print(t, ss)\n",
    "\n",
    "for i in range(20):\n",
    "    s(i)\n",
    "    \n",
    "s(80)"
   ]
  },
  {
   "cell_type": "code",
   "execution_count": null,
   "id": "923574e2",
   "metadata": {},
   "outputs": [],
   "source": []
  }
 ],
 "metadata": {
  "kernelspec": {
   "display_name": "Python 3 (ipykernel)",
   "language": "python",
   "name": "python3"
  },
  "language_info": {
   "codemirror_mode": {
    "name": "ipython",
    "version": 3
   },
   "file_extension": ".py",
   "mimetype": "text/x-python",
   "name": "python",
   "nbconvert_exporter": "python",
   "pygments_lexer": "ipython3",
   "version": "3.8.10"
  }
 },
 "nbformat": 4,
 "nbformat_minor": 5
}
